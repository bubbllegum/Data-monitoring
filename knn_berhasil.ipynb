{
 "cells": [
  {
   "cell_type": "code",
   "execution_count": 22,
   "id": "271b9aea-57a5-4457-ab2c-7d2dfea994b7",
   "metadata": {},
   "outputs": [
    {
     "data": {
      "text/html": [
       "<div>\n",
       "<style scoped>\n",
       "    .dataframe tbody tr th:only-of-type {\n",
       "        vertical-align: middle;\n",
       "    }\n",
       "\n",
       "    .dataframe tbody tr th {\n",
       "        vertical-align: top;\n",
       "    }\n",
       "\n",
       "    .dataframe thead th {\n",
       "        text-align: right;\n",
       "    }\n",
       "</style>\n",
       "<table border=\"1\" class=\"dataframe\">\n",
       "  <thead>\n",
       "    <tr style=\"text-align: right;\">\n",
       "      <th></th>\n",
       "      <th>Temperature</th>\n",
       "      <th>Voltage</th>\n",
       "      <th>Status</th>\n",
       "    </tr>\n",
       "  </thead>\n",
       "  <tbody>\n",
       "    <tr>\n",
       "      <th>0</th>\n",
       "      <td>33</td>\n",
       "      <td>217.65</td>\n",
       "      <td>2</td>\n",
       "    </tr>\n",
       "    <tr>\n",
       "      <th>1</th>\n",
       "      <td>33</td>\n",
       "      <td>218.43</td>\n",
       "      <td>2</td>\n",
       "    </tr>\n",
       "    <tr>\n",
       "      <th>2</th>\n",
       "      <td>33</td>\n",
       "      <td>217.65</td>\n",
       "      <td>2</td>\n",
       "    </tr>\n",
       "    <tr>\n",
       "      <th>3</th>\n",
       "      <td>33</td>\n",
       "      <td>217.65</td>\n",
       "      <td>2</td>\n",
       "    </tr>\n",
       "    <tr>\n",
       "      <th>4</th>\n",
       "      <td>33</td>\n",
       "      <td>218.83</td>\n",
       "      <td>2</td>\n",
       "    </tr>\n",
       "  </tbody>\n",
       "</table>\n",
       "</div>"
      ],
      "text/plain": [
       "   Temperature  Voltage  Status\n",
       "0           33   217.65       2\n",
       "1           33   218.43       2\n",
       "2           33   217.65       2\n",
       "3           33   217.65       2\n",
       "4           33   218.83       2"
      ]
     },
     "execution_count": 22,
     "metadata": {},
     "output_type": "execute_result"
    }
   ],
   "source": [
    "import pandas as pd\n",
    "\n",
    "# Load the data\n",
    "data_path = 'Data_monitoring - Sheet1.csv'\n",
    "data = pd.read_csv(data_path)\n",
    "# Display the first few rows of the dataframe\n",
    "data.head()"
   ]
  },
  {
   "cell_type": "code",
   "execution_count": 23,
   "id": "bfecf01d-e700-479b-8f58-2601be816df2",
   "metadata": {},
   "outputs": [
    {
     "name": "stdout",
     "output_type": "stream",
     "text": [
      "Accuracy: 0.99\n",
      "Classification Report:\n",
      "              precision    recall  f1-score   support\n",
      "\n",
      "           1       1.00      0.94      0.97        32\n",
      "           2       0.99      1.00      0.99       271\n",
      "           3       1.00      0.94      0.97        35\n",
      "\n",
      "    accuracy                           0.99       338\n",
      "   macro avg       1.00      0.96      0.98       338\n",
      "weighted avg       0.99      0.99      0.99       338\n",
      "\n"
     ]
    }
   ],
   "source": [
    "from sklearn.model_selection import train_test_split\n",
    "from sklearn.preprocessing import StandardScaler\n",
    "from sklearn.neighbors import KNeighborsClassifier\n",
    "from sklearn.metrics import accuracy_score, classification_report\n",
    "\n",
    "# Step 1: Preprocess the data\n",
    "X = data[['Temperature', 'Voltage']]\n",
    "y = data['Status']\n",
    "\n",
    "# Standardize the features\n",
    "scaler = StandardScaler()\n",
    "X_scaled = scaler.fit_transform(X)\n",
    "\n",
    "# Step 2: Split the data into training and testing sets\n",
    "X_train, X_test, y_train, y_test = train_test_split(X_scaled, y, test_size=0.2, random_state=42)\n",
    "\n",
    "# Step 3: Train a KNN model\n",
    "knn = KNeighborsClassifier(n_neighbors=5)  # Using 5 neighbors as an example\n",
    "knn.fit(X_train, y_train)\n",
    "\n",
    "# Step 4: Evaluate the model\n",
    "y_pred = knn.predict(X_test)\n",
    "accuracy = accuracy_score(y_test, y_pred)\n",
    "report = classification_report(y_test, y_pred)\n",
    "\n",
    "# Print the results in a readable format\n",
    "print(f'Accuracy: {accuracy:.2f}')\n",
    "print('Classification Report:')\n",
    "print(report)\n"
   ]
  },
  {
   "cell_type": "code",
   "execution_count": 24,
   "id": "76c1d1c1-60bb-49a1-8a3e-37ec88c47bcf",
   "metadata": {},
   "outputs": [
    {
     "name": "stdout",
     "output_type": "stream",
     "text": [
      "Model and scaler saved successfully.\n"
     ]
    }
   ],
   "source": [
    "import joblib\n",
    "\n",
    "# Save the KNN model\n",
    "knn_model_path = 'C:\\\\Users\\\\serenity\\\\model\\\\knn_modeltest.joblib'\n",
    "scaler_path = 'C:\\\\Users\\\\serenity\\\\model\\\\scalertest.joblib'\n",
    "\n",
    "joblib.dump(knn, knn_model_path)\n",
    "joblib.dump(scaler, scaler_path)\n",
    "\n",
    "print(\"Model and scaler saved successfully.\")"
   ]
  },
  {
   "cell_type": "code",
   "execution_count": 25,
   "id": "7499b8d3-7405-49e4-9f47-e99f6444636e",
   "metadata": {},
   "outputs": [
    {
     "name": "stdin",
     "output_type": "stream",
     "text": [
      "Enter Temperature:  33\n",
      "Enter Voltage:  219.08\n"
     ]
    },
    {
     "name": "stdout",
     "output_type": "stream",
     "text": [
      "The predicted status is: 2\n"
     ]
    }
   ],
   "source": [
    "from sklearn.preprocessing import StandardScaler\n",
    "\n",
    "# Inisialisasi StandardScaler dengan fitur nama\n",
    "scaler = StandardScaler(with_mean=True, with_std=True)\n",
    "scaler.fit(X_train)  # X_train adalah data training yang digunakan\n",
    "\n",
    "# Define function predict_status\n",
    "def predict_status(temperature, voltage):\n",
    "    # Standardize the input values using the same scaler used for training\n",
    "    input_data = scaler.transform([[temperature, voltage]])\n",
    "    \n",
    "    # Predict the status using the trained KNN model\n",
    "    predicted_status = knn.predict(input_data)\n",
    "    \n",
    "    return predicted_status[0]\n",
    "\n",
    "# Taking user input\n",
    "temperature_input = float(input(\"Enter Temperature: \"))\n",
    "voltage_input = float(input(\"Enter Voltage: \"))\n",
    "\n",
    "# Predicting the status\n",
    "predicted_status = predict_status(temperature_input, voltage_input)\n",
    "print(f\"The predicted status is: {predicted_status}\")\n"
   ]
  },
  {
   "cell_type": "code",
   "execution_count": null,
   "id": "7cbf5a9d-f445-4119-af3a-e34b7d31fbb2",
   "metadata": {},
   "outputs": [],
   "source": []
  }
 ],
 "metadata": {
  "kernelspec": {
   "display_name": "Python 3 (ipykernel)",
   "language": "python",
   "name": "python3"
  },
  "language_info": {
   "codemirror_mode": {
    "name": "ipython",
    "version": 3
   },
   "file_extension": ".py",
   "mimetype": "text/x-python",
   "name": "python",
   "nbconvert_exporter": "python",
   "pygments_lexer": "ipython3",
   "version": "3.11.0"
  }
 },
 "nbformat": 4,
 "nbformat_minor": 5
}
